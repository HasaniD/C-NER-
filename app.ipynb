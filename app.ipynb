{
 "cells": [
  {
   "cell_type": "code",
   "execution_count": 95,
   "id": "a45086a4",
   "metadata": {},
   "outputs": [
    {
     "name": "stdout",
     "output_type": "stream",
     "text": [
      " * Serving Flask app \"__main__\" (lazy loading)\n",
      " * Environment: production\n",
      "\u001b[31m   WARNING: This is a development server. Do not use it in a production deployment.\u001b[0m\n",
      "\u001b[2m   Use a production WSGI server instead.\u001b[0m\n",
      " * Debug mode: off\n"
     ]
    },
    {
     "name": "stderr",
     "output_type": "stream",
     "text": [
      " * Running on http://127.0.0.1:8000/ (Press CTRL+C to quit)\n",
      "127.0.0.1 - - [18/Jul/2022 16:43:47] \"GET / HTTP/1.1\" 200 -\n"
     ]
    }
   ],
   "source": [
    "import spacy\n",
    "from spacy import displacy\n",
    "from pathlib import Path\n",
    "from flask import Flask, redirect, url_for, render_template, request\n",
    "\n",
    "#Define flask app\n",
    "app= Flask(__name__)\n",
    "\n",
    "#routing\n",
    "@app.route('/')\n",
    "def home():\n",
    "    return render_template(\"index.html\")\n",
    "\n",
    "#routing\n",
    "@app.route('/aboutus')\n",
    "def aboutus():\n",
    "    return render_template(\"aboutus.html\")\n",
    "\n",
    "#routing\n",
    "@app.route('/help')\n",
    "def cerhelp():\n",
    "    return render_template(\"help.html\")\n",
    "\n",
    "\n",
    "#routing\n",
    "#Creating method for post requests\n",
    "@app.route('/cner', methods=[\"POST\"])\n",
    "def cner():\n",
    "    if request.method == \"POST\": #check weather the request is post\n",
    "        txt = request.form[\"name\"] #get the http post request parameter & assign it to a variable\n",
    "        nlp_ner = spacy.load(\"model-best\") #load ner model\n",
    "        new = str(txt) #convert txt variable value to string and assign to the 'new' variable\n",
    "        doc = nlp_ner(new) #pass input valu to the model and assign the prediction to new variable\n",
    "        html = displacy.render(doc, style=\"ent\",jupyter=False) #visualize the output\n",
    "        return render_template(\"index.html\", content=html) # send \n",
    "    else:\n",
    "        return \"Error! http \"\n",
    "    \n",
    "app.run(port=8000)#run flask app\n"
   ]
  }
 ],
 "metadata": {
  "kernelspec": {
   "display_name": "Python 3 (ipykernel)",
   "language": "python",
   "name": "python3"
  },
  "language_info": {
   "codemirror_mode": {
    "name": "ipython",
    "version": 3
   },
   "file_extension": ".py",
   "mimetype": "text/x-python",
   "name": "python",
   "nbconvert_exporter": "python",
   "pygments_lexer": "ipython3",
   "version": "3.9.12"
  }
 },
 "nbformat": 4,
 "nbformat_minor": 5
}
